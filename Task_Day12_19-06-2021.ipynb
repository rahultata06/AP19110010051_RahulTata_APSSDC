{
 "cells": [
  {
   "cell_type": "markdown",
   "id": "1ee2b8ae",
   "metadata": {},
   "source": [
    "### Take a list of years between 1800 to 2030 and also display all the leap years which is divisible by 5."
   ]
  },
  {
   "cell_type": "code",
   "execution_count": 4,
   "id": "4e4d1908",
   "metadata": {},
   "outputs": [
    {
     "data": {
      "text/plain": [
       "[1920, 1940, 1960, 1980, 2000, 2020]"
      ]
     },
     "execution_count": 4,
     "metadata": {},
     "output_type": "execute_result"
    }
   ],
   "source": [
    "[a for a in range(1900, 2021) if ((a%4==0 and a%100!=0) or (a%400==0)) and a%5==0]"
   ]
  }
 ],
 "metadata": {
  "kernelspec": {
   "display_name": "Python 3",
   "language": "python",
   "name": "python3"
  },
  "language_info": {
   "codemirror_mode": {
    "name": "ipython",
    "version": 3
   },
   "file_extension": ".py",
   "mimetype": "text/x-python",
   "name": "python",
   "nbconvert_exporter": "python",
   "pygments_lexer": "ipython3",
   "version": "3.8.8"
  }
 },
 "nbformat": 4,
 "nbformat_minor": 5
}
