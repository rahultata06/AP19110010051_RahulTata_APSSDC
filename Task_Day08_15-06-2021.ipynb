{
 "cells": [
  {
   "cell_type": "markdown",
   "id": "5730ff92",
   "metadata": {},
   "source": [
    "### Create a function for finding the leap years in the given range."
   ]
  },
  {
   "cell_type": "code",
   "execution_count": 1,
   "id": "6fbb6699",
   "metadata": {},
   "outputs": [
    {
     "name": "stdout",
     "output_type": "stream",
     "text": [
      "Enter the starting year: 2000\n",
      "Enter the ending year: 2100\n",
      "Leap years between the range 2000 and 2100 are \n",
      "2000  2004  2008  2012  2016  2020  2024  2028  2032  2036  2040  2044  2048  2052  2056  2060  2064  2068  2072  2076  2080  2084  2088  2092  2096  "
     ]
    }
   ],
   "source": [
    "def leap_year(start, end):\n",
    "    print(\"Leap years between the range\", start, \"and\", end, \"are \")\n",
    "    for i in range(start, end+1):\n",
    "        if (i%4==0 and i%100!=0 or i%400==0):\n",
    "            print(i, end='  ')\n",
    "\n",
    "leap_year(int(input(\"Enter the starting year: \")), int(input(\"Enter the ending year: \")))"
   ]
  },
  {
   "cell_type": "markdown",
   "id": "b85441ee",
   "metadata": {},
   "source": [
    "### Create a function to get armstrong numbers within the given range."
   ]
  },
  {
   "cell_type": "code",
   "execution_count": 2,
   "id": "e54ac676",
   "metadata": {},
   "outputs": [
    {
     "name": "stdout",
     "output_type": "stream",
     "text": [
      "Enter the start number: 1\n",
      "Enter the final number: 500\n",
      "The Armstrong numbers from 1 to 500 are\n",
      "1  2  3  4  5  6  7  8  9  153  370  371  407  "
     ]
    }
   ],
   "source": [
    "def armstrong(x, y):\n",
    "    print(\"The Armstrong numbers from\", x, \"to\", y, \"are\")\n",
    "    for i in range(x, y+1):\n",
    "        num = i\n",
    "        result = 0\n",
    "        n = len(str(i))\n",
    "        while(i != 0):\n",
    "            digit = i % 10\n",
    "            result = result + digit ** n\n",
    "            i = i//10\n",
    "        if num == result:\n",
    "            print(num, end='  ')\n",
    "\n",
    "armstrong(int(input(\"Enter the start number: \")), int(input(\"Enter the final number: \")))"
   ]
  },
  {
   "cell_type": "markdown",
   "id": "9558e6f0",
   "metadata": {},
   "source": [
    "### Create a function for getting the prime numbers within the range."
   ]
  },
  {
   "cell_type": "code",
   "execution_count": 4,
   "id": "6565fdc6",
   "metadata": {},
   "outputs": [
    {
     "name": "stdout",
     "output_type": "stream",
     "text": [
      "Enter the start number: 1\n",
      "Enter the final number: 200\n",
      "Prime numbers between 1 and 200 are\n",
      "1  2  3  4  5  6  7  8  9  11  13  15  17  19  23  25  29  31  35  37  41  43  47  49  53  59  61  67  71  73  79  83  89  97  101  103  107  109  113  121  127  131  137  139  143  149  151  157  163  167  169  173  179  181  191  193  197  199  "
     ]
    }
   ],
   "source": [
    "import math\n",
    "def prime_number(n, m):\n",
    "    print(\"Prime numbers between\", n, \"and\", m, \"are\")\n",
    "    for x in range(n, m+1):\n",
    "        for y in range(2, int(math.sqrt(x))):\n",
    "            if x%y == 0:\n",
    "                break\n",
    "        else:\n",
    "            print(x, end='  ')\n",
    "prime_number(int(input(\"Enter the start number: \")), int(input(\"Enter the final number: \")))"
   ]
  },
  {
   "cell_type": "markdown",
   "id": "c0faa7f8",
   "metadata": {},
   "source": [
    "### Create a function for finding the count of elements in a string"
   ]
  },
  {
   "cell_type": "code",
   "execution_count": 6,
   "id": "7e8ff9ba",
   "metadata": {},
   "outputs": [
    {
     "name": "stdout",
     "output_type": "stream",
     "text": [
      "Enter a string: Entered a string\n",
      "Count of elements in the string is: 16\n"
     ]
    }
   ],
   "source": [
    "def count(string):\n",
    "    count_str = 0\n",
    "    for i in string:\n",
    "        count_str = count_str + 1\n",
    "    return count_str \n",
    "\n",
    "print(\"Count of elements in the string is:\",count(input(\"Enter a string: \")))"
   ]
  }
 ],
 "metadata": {
  "kernelspec": {
   "display_name": "Python 3",
   "language": "python",
   "name": "python3"
  },
  "language_info": {
   "codemirror_mode": {
    "name": "ipython",
    "version": 3
   },
   "file_extension": ".py",
   "mimetype": "text/x-python",
   "name": "python",
   "nbconvert_exporter": "python",
   "pygments_lexer": "ipython3",
   "version": "3.8.1"
  }
 },
 "nbformat": 4,
 "nbformat_minor": 5
}
