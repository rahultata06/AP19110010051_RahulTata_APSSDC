{
 "cells": [
  {
   "cell_type": "markdown",
   "id": "3fe6c3d8",
   "metadata": {},
   "source": [
    "### Write a program to know which branch does a student belong using Roll Number\n",
    "* Take last 6 values of Roll Number\n",
    "    * if value startswith \"01\" --> 'CSE Dept'\n",
    "    * if value startswith \"11\" --> 'IT Dept'\n",
    "    * if value startswith \"21\" --> \"ECE Dept\"\n",
    "    * if does not start with any of the above they are not an SRM student"
   ]
  },
  {
   "cell_type": "code",
   "execution_count": 1,
   "id": "08904e36",
   "metadata": {},
   "outputs": [
    {
     "name": "stdout",
     "output_type": "stream",
     "text": [
      "Your roll number: AP19110010051\n",
      "Belongs to CSE\n"
     ]
    }
   ],
   "source": [
    "RollNo = input(\"Your roll number: \")\n",
    "if RollNo[-6:].startswith('01'):\n",
    "    print(\"Belongs to CSE\")\n",
    "elif RollNo[-6:].startswith('02'):\n",
    "    print(\"Belongs to IT\")\n",
    "elif RollNo[-6:].startswith('03'):\n",
    "    print(\"Belongs to ECE\")\n",
    "else:\n",
    "    print(\"Not a SRM student\")"
   ]
  },
  {
   "cell_type": "code",
   "execution_count": 2,
   "id": "43669c80",
   "metadata": {},
   "outputs": [
    {
     "name": "stdout",
     "output_type": "stream",
     "text": [
      "Your roll number: AP19110020051\n",
      "Belongs to IT\n"
     ]
    }
   ],
   "source": [
    "RollNo = input(\"Your roll number: \")\n",
    "if RollNo[-6:].startswith('01'):\n",
    "    print(\"Belongs to CSE\")\n",
    "elif RollNo[-6:].startswith('02'):\n",
    "    print(\"Belongs to IT\")\n",
    "elif RollNo[-6:].startswith('03'):\n",
    "    print(\"Belongs to ECE\")\n",
    "else:\n",
    "    print(\"Not a SRM student\")"
   ]
  },
  {
   "cell_type": "code",
   "execution_count": 3,
   "id": "7797d021",
   "metadata": {},
   "outputs": [
    {
     "name": "stdout",
     "output_type": "stream",
     "text": [
      "Your roll number: AP19110030051\n",
      "Belongs to ECE\n"
     ]
    }
   ],
   "source": [
    "RollNo = input(\"Your roll number: \")\n",
    "if RollNo[-6:].startswith('01'):\n",
    "    print(\"Belongs to CSE\")\n",
    "elif RollNo[-6:].startswith('02'):\n",
    "    print(\"Belongs to IT\")\n",
    "elif RollNo[-6:].startswith('03'):\n",
    "    print(\"Belongs to ECE\")\n",
    "else:\n",
    "    print(\"Not a SRM student\")"
   ]
  },
  {
   "cell_type": "code",
   "execution_count": 4,
   "id": "8b2e081b",
   "metadata": {},
   "outputs": [
    {
     "name": "stdout",
     "output_type": "stream",
     "text": [
      "Your roll number: AP19110040051\n",
      "Not a SRM student\n"
     ]
    }
   ],
   "source": [
    "RollNo = input(\"Your roll number: \")\n",
    "if RollNo[-6:].startswith('01'):\n",
    "    print(\"Belongs to CSE\")\n",
    "elif RollNo[-6:].startswith('02'):\n",
    "    print(\"Belongs to IT\")\n",
    "elif RollNo[-6:].startswith('03'):\n",
    "    print(\"Belongs to ECE\")\n",
    "else:\n",
    "    print(\"Not a SRM student\")"
   ]
  }
 ],
 "metadata": {
  "kernelspec": {
   "display_name": "Python 3",
   "language": "python",
   "name": "python3"
  },
  "language_info": {
   "codemirror_mode": {
    "name": "ipython",
    "version": 3
   },
   "file_extension": ".py",
   "mimetype": "text/x-python",
   "name": "python",
   "nbconvert_exporter": "python",
   "pygments_lexer": "ipython3",
   "version": "3.8.1"
  }
 },
 "nbformat": 4,
 "nbformat_minor": 5
}
