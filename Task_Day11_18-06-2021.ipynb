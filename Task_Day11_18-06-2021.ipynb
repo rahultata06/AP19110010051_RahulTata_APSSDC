{
 "cells": [
  {
   "cell_type": "code",
   "execution_count": 59,
   "id": "87c58644",
   "metadata": {},
   "outputs": [],
   "source": [
    "f = open(\"file1.txt\",'w')\n",
    "f.write(\"This is line 1 in the file.  \\n\")\n",
    "f.write(\"This is line 2 in the file.  \\n\")\n",
    "f.write(\"This is line 3 in the file.  \\n\")\n",
    "f.write(\"This is line 4 in the file.  \\n\")\n",
    "f.write(\"This is line 5 in the file.  \\n\")\n",
    "f.write(\"This is line 6 in the file.  \\n\")\n",
    "f.write(\"This is line 7 in the file.  \\n\")\n",
    "f.write(\"This is line 8 in the file.  \\n\")\n",
    "f.write(\"This is line 9 in the file.  \\n\")\n",
    "f.close()"
   ]
  },
  {
   "cell_type": "markdown",
   "id": "5eba0160",
   "metadata": {},
   "source": [
    "### Write a program for getting the last five line from the file."
   ]
  },
  {
   "cell_type": "code",
   "execution_count": 64,
   "id": "dc1a0d01",
   "metadata": {},
   "outputs": [
    {
     "name": "stdout",
     "output_type": "stream",
     "text": [
      "This is line 7 in the file.  \n",
      "This is line 8 in the file.  \n",
      "This is line 9 in the file.  \n",
      "me  \n",
      "me  \n"
     ]
    }
   ],
   "source": [
    "with open(\"file1.txt\") as file:\n",
    "    for line in (file.readlines() [-5:]):\n",
    "        print(line, end ='')\n",
    "\n",
    "f.close()"
   ]
  },
  {
   "cell_type": "markdown",
   "id": "8be36427",
   "metadata": {},
   "source": [
    "### Create a function for appending the data into the file."
   ]
  },
  {
   "cell_type": "code",
   "execution_count": 65,
   "id": "08fb8e7e",
   "metadata": {},
   "outputs": [
    {
     "name": "stdout",
     "output_type": "stream",
     "text": [
      "Enter the Line be added in file: md\n",
      "This is line 1 in the file.  \n",
      "This is line 2 in the file.  \n",
      "This is line 3 in the file.  \n",
      "This is line 4 in the file.  \n",
      "This is line 5 in the file.  \n",
      "This is line 6 in the file.  \n",
      "This is line 7 in the file.  \n",
      "This is line 8 in the file.  \n",
      "This is line 9 in the file.  \n",
      "me  \n",
      "me  \n",
      "md  \n",
      "\n"
     ]
    }
   ],
   "source": [
    "def append(string):\n",
    "    f=open('file1.txt', 'a+')\n",
    "    f.write(\"{}  \\n\".format(string))    \n",
    "    f.close()\n",
    "    \n",
    "\n",
    "append(input(\"Enter the Line be added in file: \"))\n",
    "\n",
    "f = open('file1.txt')   \n",
    "print(f.read())\n",
    "f.close()"
   ]
  },
  {
   "cell_type": "markdown",
   "id": "fbe97488",
   "metadata": {},
   "source": [
    "### Create a program for updating a word in the file."
   ]
  },
  {
   "cell_type": "code",
   "execution_count": 66,
   "id": "68aeee56",
   "metadata": {},
   "outputs": [
    {
     "name": "stdout",
     "output_type": "stream",
     "text": [
      "Name   Designation    Emp_ID \n",
      "Rahul    Analyst      123 \n",
      "\n"
     ]
    }
   ],
   "source": [
    "import re\n",
    "f = open('file2.txt','w')\n",
    "f.write(\"Name   Designation    Emp_ID \\n\")\n",
    "f.write(\"Rahul    Analyst      123 \\n\")\n",
    "f.close()\n",
    "f = open('file2.txt')\n",
    "print(f.read())"
   ]
  },
  {
   "cell_type": "code",
   "execution_count": 67,
   "id": "9748c754",
   "metadata": {},
   "outputs": [
    {
     "name": "stdout",
     "output_type": "stream",
     "text": [
      "Orginal Data: 123\n",
      "Updating Data: 19110010051\n",
      "Name   Designation    Emp_ID \n",
      "Rahul    Analyst      19110010051 \n",
      "\n"
     ]
    }
   ],
   "source": [
    "with open('file2.txt','r+') as f:\n",
    "    text = f.read()\n",
    "    text = re.sub(input(\"Orginal Data: \"), input(\"Updating Data: \"), text)\n",
    "    f.seek(0)\n",
    "    f.write(text)\n",
    "    f.truncate()\n",
    "f = open('file2.txt')\n",
    "print(f.read())"
   ]
  }
 ],
 "metadata": {
  "kernelspec": {
   "display_name": "Python 3",
   "language": "python",
   "name": "python3"
  },
  "language_info": {
   "codemirror_mode": {
    "name": "ipython",
    "version": 3
   },
   "file_extension": ".py",
   "mimetype": "text/x-python",
   "name": "python",
   "nbconvert_exporter": "python",
   "pygments_lexer": "ipython3",
   "version": "3.8.8"
  }
 },
 "nbformat": 4,
 "nbformat_minor": 5
}
