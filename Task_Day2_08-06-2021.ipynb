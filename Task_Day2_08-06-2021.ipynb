{
 "cells": [
  {
   "cell_type": "markdown",
   "id": "fb67df5f",
   "metadata": {},
   "source": [
    "### Write a program to check if the user is elgible to vote or not."
   ]
  },
  {
   "cell_type": "code",
   "execution_count": 1,
   "id": "3ee09046",
   "metadata": {},
   "outputs": [
    {
     "name": "stdout",
     "output_type": "stream",
     "text": [
      "Enter your age: 19\n",
      "You are eligible for voting\n"
     ]
    }
   ],
   "source": [
    "age = int(input(\"Enter your age: \"))\n",
    "\n",
    "if age >= 18:\n",
    "    print(\"You are eligible for voting\")\n",
    "else:\n",
    "    print(\"You are not eligible for voting\")"
   ]
  },
  {
   "cell_type": "markdown",
   "id": "a5d755e5",
   "metadata": {},
   "source": [
    "### Write a program to check the given number is positive or negative."
   ]
  },
  {
   "cell_type": "code",
   "execution_count": 2,
   "id": "3816d05e",
   "metadata": {},
   "outputs": [
    {
     "name": "stdout",
     "output_type": "stream",
     "text": [
      "Enter the number: -20.5\n",
      "The given number -20.5 is negative.\n"
     ]
    }
   ],
   "source": [
    "num = float(input(\"Enter the number: \"))\n",
    "\n",
    "if num<0:\n",
    "    print(\"The given number {0} is negative.\".format(num))\n",
    "elif num==0:\n",
    "    print(\"The given number is zero\")\n",
    "else:\n",
    "    print(\"The given number {0} is positive.\".format(num))"
   ]
  },
  {
   "cell_type": "markdown",
   "id": "9a03e761",
   "metadata": {},
   "source": [
    "### Write a program to check the given number is even or odd if it's even check which is divisible by 4 or not"
   ]
  },
  {
   "cell_type": "code",
   "execution_count": 8,
   "id": "fd7e1861",
   "metadata": {},
   "outputs": [
    {
     "name": "stdout",
     "output_type": "stream",
     "text": [
      "Enter a number: 44\n",
      "The given number is even and is also divisible by 4\n"
     ]
    }
   ],
   "source": [
    "num = int(input(\"Enter a number: \"))\n",
    "str=''\n",
    "if (num % 2) == 0:\n",
    "    str+='The given number is even'\n",
    "else:\n",
    "    str+='The given number is odd'\n",
    "if (num % 4) == 0:\n",
    "    str+=' and is also divisible by 4'\n",
    "print(str)"
   ]
  },
  {
   "cell_type": "markdown",
   "id": "0c83fbb8",
   "metadata": {},
   "source": [
    "### Write a program to print the student grade based on percentage like Distinction, pass, or fail"
   ]
  },
  {
   "cell_type": "code",
   "execution_count": 11,
   "id": "4baf0dc6",
   "metadata": {},
   "outputs": [
    {
     "name": "stdout",
     "output_type": "stream",
     "text": [
      "Enter your percentage: 87.1\n",
      "The student has graduated with distinction.\n"
     ]
    }
   ],
   "source": [
    "per = float(input(\"Enter your percentage: \"))\n",
    "if (per>0) & (per <= 35):\n",
    "    print(\"The student has failed.\")\n",
    "elif (per > 35) & (per <= 75):\n",
    "    print(\"The student has passed.\")\n",
    "elif (per > 75) & (per <= 100):\n",
    "    print(\"The student has graduated with distinction.\")\n",
    "else:\n",
    "    print(\"The percentage you have entered is invalid.\")"
   ]
  },
  {
   "cell_type": "markdown",
   "id": "7b8fafc4",
   "metadata": {},
   "source": [
    "### Write a program check the given year is Leap or not"
   ]
  },
  {
   "cell_type": "code",
   "execution_count": 14,
   "id": "efbd7a4b",
   "metadata": {},
   "outputs": [
    {
     "name": "stdout",
     "output_type": "stream",
     "text": [
      "Enter the year: 2100\n",
      "2100 is not a leap year\n"
     ]
    }
   ],
   "source": [
    "year = int(input(\"Enter the year: \"))\n",
    "if (year % 4) == 0:\n",
    "    if (year % 100) == 0:\n",
    "        if (year % 400) == 0:\n",
    "            print(\"{0} is a leap year\".format(year))\n",
    "        else:\n",
    "            print(\"{0} is not a leap year\".format(year))\n",
    "    else:\n",
    "        print(\"{0} is a leap year\".format(year))\n",
    "else:\n",
    "    print(\"{0} is not a leap year\".format(year))"
   ]
  }
 ],
 "metadata": {
  "kernelspec": {
   "display_name": "Python 3",
   "language": "python",
   "name": "python3"
  },
  "language_info": {
   "codemirror_mode": {
    "name": "ipython",
    "version": 3
   },
   "file_extension": ".py",
   "mimetype": "text/x-python",
   "name": "python",
   "nbconvert_exporter": "python",
   "pygments_lexer": "ipython3",
   "version": "3.8.1"
  }
 },
 "nbformat": 4,
 "nbformat_minor": 5
}
