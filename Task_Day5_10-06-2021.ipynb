{
 "cells": [
  {
   "cell_type": "markdown",
   "id": "40fc01aa",
   "metadata": {},
   "source": [
    "### Write a Python Function to that takes two lists and returns True if they have atleast one common member, otherwise return False"
   ]
  },
  {
   "cell_type": "code",
   "execution_count": 3,
   "id": "203b0624",
   "metadata": {},
   "outputs": [
    {
     "name": "stdout",
     "output_type": "stream",
     "text": [
      "Enter the size of the first List: 3\n",
      "Enter the Element 1 of first List: 1\n",
      "Enter the Element 2 of first List: 2\n",
      "Enter the Element 3 of first List: 3\n",
      "Enter the size of the second List: 4\n",
      "Enter the Element 1 of second List: 2\n",
      "Enter the Element 2 of second List: 3\n",
      "Enter the Element 3 of second List: 4\n",
      "Enter the Element 4 of second List: 5\n"
     ]
    },
    {
     "data": {
      "text/plain": [
       "True"
      ]
     },
     "execution_count": 3,
     "metadata": {},
     "output_type": "execute_result"
    }
   ],
   "source": [
    "def CommonList(list1, list2):\n",
    "    result = False\n",
    "    for x in list1:\n",
    "        for y in list2:\n",
    "            if x == y:\n",
    "                result = True\n",
    "    return result\n",
    "\n",
    "l1=[]\n",
    "l2=[]\n",
    "\n",
    "for i in range (0, int(input(\"Enter the size of the first List: \"))):\n",
    "    l1.append(int(input(\"Enter the Element {} of first List: \".format(i+1))))\n",
    "\n",
    "for i in range (0, int(input(\"Enter the size of the second List: \"))):\n",
    "    l2.append(int(input(\"Enter the Element {} of second List: \".format(i+1))))    \n",
    "\n",
    "CommonList(l1, l2)"
   ]
  },
  {
   "cell_type": "code",
   "execution_count": 2,
   "id": "d72ea3e6",
   "metadata": {},
   "outputs": [
    {
     "name": "stdout",
     "output_type": "stream",
     "text": [
      "Enter the size of the first List: 3\n",
      "Enter the Element 1 of first List: 1\n",
      "Enter the Element 2 of first List: 2\n",
      "Enter the Element 3 of first List: 3\n",
      "Enter the size of the second List: 3\n",
      "Enter the Element 1 of second List: 4\n",
      "Enter the Element 2 of second List: 5\n",
      "Enter the Element 3 of second List: 6\n"
     ]
    },
    {
     "data": {
      "text/plain": [
       "False"
      ]
     },
     "execution_count": 2,
     "metadata": {},
     "output_type": "execute_result"
    }
   ],
   "source": [
    "def CommonList(list1, list2):\n",
    "    result = False\n",
    "    for x in list1:\n",
    "        for y in list2:\n",
    "            if x == y:\n",
    "                result = True\n",
    "    return result\n",
    "\n",
    "l1=[]\n",
    "l2=[]\n",
    "\n",
    "for i in range (0, int(input(\"Enter the size of the first List: \"))):\n",
    "    l1.append(int(input(\"Enter the Element {} of first List: \".format(i+1))))\n",
    "\n",
    "for i in range (0, int(input(\"Enter the size of the second List: \"))):\n",
    "    l2.append(int(input(\"Enter the Element {} of second List: \".format(i+1))))    \n",
    "\n",
    "CommonList(l1, l2)"
   ]
  }
 ],
 "metadata": {
  "kernelspec": {
   "display_name": "Python 3",
   "language": "python",
   "name": "python3"
  },
  "language_info": {
   "codemirror_mode": {
    "name": "ipython",
    "version": 3
   },
   "file_extension": ".py",
   "mimetype": "text/x-python",
   "name": "python",
   "nbconvert_exporter": "python",
   "pygments_lexer": "ipython3",
   "version": "3.8.1"
  }
 },
 "nbformat": 4,
 "nbformat_minor": 5
}
