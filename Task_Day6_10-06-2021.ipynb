{
 "cells": [
  {
   "cell_type": "markdown",
   "id": "e89dff7c",
   "metadata": {},
   "source": [
    "### Write a Python Script to print a dictionary where the keys are numbers between 1 and 15 (both included) and the values are square of keys."
   ]
  },
  {
   "cell_type": "code",
   "execution_count": 1,
   "id": "8ce48dcc",
   "metadata": {},
   "outputs": [
    {
     "name": "stdout",
     "output_type": "stream",
     "text": [
      "Enter a number: 15\n",
      "{1: 1, 2: 4, 3: 9, 4: 16, 5: 25, 6: 36, 7: 49, 8: 64, 9: 81, 10: 100, 11: 121, 12: 144, 13: 169, 14: 196, 15: 225}\n"
     ]
    }
   ],
   "source": [
    "d=dict()\n",
    "for x in range(1,int(input(\"Enter a number: \"))+1):\n",
    "    d[x]=x**2\n",
    "print(d)"
   ]
  },
  {
   "cell_type": "markdown",
   "id": "26bbfe08",
   "metadata": {},
   "source": [
    "### Write a Python program to map two lists into a dictionary."
   ]
  },
  {
   "cell_type": "code",
   "execution_count": 2,
   "id": "d67e114d",
   "metadata": {},
   "outputs": [
    {
     "name": "stdout",
     "output_type": "stream",
     "text": [
      "{'Name': 'John', 'Age': 25, 'Job': 'Developer'}\n"
     ]
    }
   ],
   "source": [
    "dictionary = dict()\n",
    "keys = ['Name', 'Age', 'Job']\n",
    "values = ['John', 25, 'Developer']\n",
    "if len(keys)==len(values):\n",
    "    dictionary = {k: v for k, v in zip(keys, values)}\n",
    "    print(dictionary)\n",
    "else:\n",
    "    print(\"Cannot map the lists to dictionry.\")"
   ]
  },
  {
   "cell_type": "markdown",
   "id": "be605944",
   "metadata": {},
   "source": [
    "### Write a Python program to sort a list alphabetically in a dictionary\n",
    "* input : {'n1': [2, 3, 1], 'n2': [5, 1, 2], 'n3': [3, 2, 4]}"
   ]
  },
  {
   "cell_type": "code",
   "execution_count": 3,
   "id": "7f3f7ebc",
   "metadata": {},
   "outputs": [
    {
     "name": "stdout",
     "output_type": "stream",
     "text": [
      "{'n1': [1, 2, 3], 'n2': [1, 2, 5], 'n3': [2, 3, 4]}\n"
     ]
    }
   ],
   "source": [
    "num = {'n1': [2, 3, 1], 'n2': [5, 1, 2], 'n3': [3, 2, 4]}\n",
    "sorted_dict = {x: sorted(y) for x, y in num.items()}\n",
    "print(sorted_dict)   "
   ]
  }
 ],
 "metadata": {
  "kernelspec": {
   "display_name": "Python 3",
   "language": "python",
   "name": "python3"
  },
  "language_info": {
   "codemirror_mode": {
    "name": "ipython",
    "version": 3
   },
   "file_extension": ".py",
   "mimetype": "text/x-python",
   "name": "python",
   "nbconvert_exporter": "python",
   "pygments_lexer": "ipython3",
   "version": "3.8.1"
  }
 },
 "nbformat": 4,
 "nbformat_minor": 5
}
