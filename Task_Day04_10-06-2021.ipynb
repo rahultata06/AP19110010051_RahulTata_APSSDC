{
 "cells": [
  {
   "cell_type": "markdown",
   "id": "3e9502e5",
   "metadata": {},
   "source": [
    "## Write a program to \n",
    "* take the string as input from user.\n",
    "* check the if lenght of string is even or odd.\n",
    "    - print one middle chareceter in case of odd length. (or)\n",
    "    - print two middle chareceters in case of even length."
   ]
  },
  {
   "cell_type": "code",
   "execution_count": 1,
   "id": "09aa870b",
   "metadata": {},
   "outputs": [
    {
     "name": "stdout",
     "output_type": "stream",
     "text": [
      "Enter a string: rahul\n",
      "The middle chareter of the string is h.\n"
     ]
    }
   ],
   "source": [
    "s=input(\"Enter a string: \")\n",
    "if (len(s))%2==0:\n",
    "    print(\"The middle chareters of the string are {}, {}.\".format(s[(len(s)//2)-1], s[(len(s)//2)]))\n",
    "else:\n",
    "    print(\"The middle chareter of the string is {}.\".format(s[(len(s)//2)]))"
   ]
  },
  {
   "cell_type": "code",
   "execution_count": 2,
   "id": "ddcd248e",
   "metadata": {},
   "outputs": [
    {
     "name": "stdout",
     "output_type": "stream",
     "text": [
      "Enter a string: trahul\n",
      "The middle chareters of the string are a, h.\n"
     ]
    }
   ],
   "source": [
    "s=input(\"Enter a string: \")\n",
    "if (len(s))%2==0:\n",
    "    print(\"The middle chareters of the string are {}, {}.\".format(s[(len(s)//2)-1], s[(len(s)//2)]))\n",
    "else:\n",
    "    print(\"The middle chareter of the string is {}.\".format(s[(len(s)//2)]))"
   ]
  }
 ],
 "metadata": {
  "kernelspec": {
   "display_name": "Python 3",
   "language": "python",
   "name": "python3"
  },
  "language_info": {
   "codemirror_mode": {
    "name": "ipython",
    "version": 3
   },
   "file_extension": ".py",
   "mimetype": "text/x-python",
   "name": "python",
   "nbconvert_exporter": "python",
   "pygments_lexer": "ipython3",
   "version": "3.8.1"
  }
 },
 "nbformat": 4,
 "nbformat_minor": 5
}
