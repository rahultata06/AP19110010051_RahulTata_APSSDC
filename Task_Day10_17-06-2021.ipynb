{
 "cells": [
  {
   "cell_type": "markdown",
   "id": "c9479df2",
   "metadata": {},
   "source": [
    "### Generate 3-digit OTP from 2 different classes(Mail Class and Phone Class) return 6 digit OTP from Baseclasses(super classes)"
   ]
  },
  {
   "cell_type": "code",
   "execution_count": 4,
   "id": "56395665",
   "metadata": {},
   "outputs": [],
   "source": [
    "import random"
   ]
  },
  {
   "cell_type": "code",
   "execution_count": 5,
   "id": "1dfd7518",
   "metadata": {},
   "outputs": [],
   "source": [
    "class Mail:\n",
    "    def __init__(self):\n",
    "        self.s1 = random.randint(100, 999)\n",
    "        print(\"Your 3-digit OTP is: \",self.s1)\n",
    "class Phone:\n",
    "    def __init__(self):\n",
    "        self.s2 = random.randint(100, 999)\n",
    "        print(\"Your 3-digit OTP is: \",self.s2)\n",
    "class otp(Mail, Phone):\n",
    "    def __init__(self):\n",
    "        Mail.__init__(self)\n",
    "        Phone.__init__(self)\n",
    "        print(\"Your 6-digit OTP is: \",str(self.s1)+str(self.s2))"
   ]
  },
  {
   "cell_type": "code",
   "execution_count": 6,
   "id": "e2a6fbae",
   "metadata": {},
   "outputs": [
    {
     "name": "stdout",
     "output_type": "stream",
     "text": [
      "Your 3-digit OTP is:  197\n",
      "Your 3-digit OTP is:  632\n",
      "Your 6-digit OTP is:  197632\n"
     ]
    }
   ],
   "source": [
    "obj = otp()"
   ]
  }
 ],
 "metadata": {
  "kernelspec": {
   "display_name": "Python 3",
   "language": "python",
   "name": "python3"
  },
  "language_info": {
   "codemirror_mode": {
    "name": "ipython",
    "version": 3
   },
   "file_extension": ".py",
   "mimetype": "text/x-python",
   "name": "python",
   "nbconvert_exporter": "python",
   "pygments_lexer": "ipython3",
   "version": "3.8.1"
  }
 },
 "nbformat": 4,
 "nbformat_minor": 5
}
