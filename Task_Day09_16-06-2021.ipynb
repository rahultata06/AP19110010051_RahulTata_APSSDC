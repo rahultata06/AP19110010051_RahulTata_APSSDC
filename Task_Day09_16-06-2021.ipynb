{
 "cells": [
  {
   "cell_type": "code",
   "execution_count": 4,
   "id": "5f94fabd",
   "metadata": {},
   "outputs": [],
   "source": [
    "import emoji\n",
    "import camelcase\n",
    "import pyttsx3"
   ]
  },
  {
   "cell_type": "markdown",
   "id": "e2a2eb61",
   "metadata": {},
   "source": [
    "### Write a program in module\n",
    "* Ask the user to enter the data\n",
    "* Check the data if it's camelcase print like(Thumbsup)emoji\n",
    "* Else convert the data into camelcase then speakout successfully converted your data into camelcase"
   ]
  },
  {
   "cell_type": "code",
   "execution_count": 5,
   "id": "fde5f045",
   "metadata": {},
   "outputs": [],
   "source": [
    "def info(data):\n",
    "    x=camelcase.CamelCase()\n",
    "    if data==x.hump(data):\n",
    "        return emoji.emojize(\"The sentence is in camel case :thumbsup:\", use_aliases = True)\n",
    "    else:\n",
    "        spk = pyttsx3.init()\n",
    "        spk.say(\"Successfully converted your data into camelcase\")\n",
    "        spk.runAndWait()\n",
    "        return \"The sentence in camel case:\", x.hump(data)"
   ]
  },
  {
   "cell_type": "code",
   "execution_count": 6,
   "id": "49729588",
   "metadata": {},
   "outputs": [
    {
     "name": "stdout",
     "output_type": "stream",
     "text": [
      "Enter your data: Rahul Tata\n",
      "The sentence is in camel case 👍\n"
     ]
    }
   ],
   "source": [
    "data = input(\"Enter your data: \")\n",
    "print(info(data))"
   ]
  }
 ],
 "metadata": {
  "kernelspec": {
   "display_name": "Python 3",
   "language": "python",
   "name": "python3"
  },
  "language_info": {
   "codemirror_mode": {
    "name": "ipython",
    "version": 3
   },
   "file_extension": ".py",
   "mimetype": "text/x-python",
   "name": "python",
   "nbconvert_exporter": "python",
   "pygments_lexer": "ipython3",
   "version": "3.8.1"
  }
 },
 "nbformat": 4,
 "nbformat_minor": 5
}
