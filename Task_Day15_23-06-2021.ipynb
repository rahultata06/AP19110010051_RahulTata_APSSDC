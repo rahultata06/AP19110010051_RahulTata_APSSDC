{
 "cells": [
  {
   "cell_type": "markdown",
   "metadata": {},
   "source": [
    "# Ex1 - Getting and knowing your Data"
   ]
  },
  {
   "cell_type": "markdown",
   "metadata": {},
   "source": [
    "### Step 1. Go to [Dataset_link](https://www.kaggle.com/zhangjuefei/birds-bones-and-living-habits)"
   ]
  },
  {
   "cell_type": "markdown",
   "metadata": {},
   "source": [
    "* There are many kinds of birds: pigeons, ducks, ostriches, penguins… Some are good at flying, others can't fly but run fast. Some swim under water, others wading in shallow pool.\n",
    "\n",
    "* *According to their living environments and living habits, birds are classified into different ecological groups. There are 6 ecological groups of birds:*\n",
    "\n",
    "\n",
    "- Swimming Birds\n",
    "- Wading Birds\n",
    "- Terrestrial Birds\n",
    "- Raptors\n",
    "- Scansorial Birds\n",
    "- Singing Birds"
   ]
  },
  {
   "cell_type": "markdown",
   "metadata": {},
   "source": [
    "###  Step 2. Download the dataset to your computer and unzip it. "
   ]
  },
  {
   "cell_type": "code",
   "execution_count": 1,
   "metadata": {},
   "outputs": [],
   "source": [
    "#done"
   ]
  },
  {
   "cell_type": "markdown",
   "metadata": {},
   "source": [
    "### Step 3. Use the Csv file and assign it to a dataframe called birds"
   ]
  },
  {
   "cell_type": "code",
   "execution_count": 2,
   "metadata": {},
   "outputs": [
    {
     "data": {
      "text/html": [
       "<div>\n",
       "<style scoped>\n",
       "    .dataframe tbody tr th:only-of-type {\n",
       "        vertical-align: middle;\n",
       "    }\n",
       "\n",
       "    .dataframe tbody tr th {\n",
       "        vertical-align: top;\n",
       "    }\n",
       "\n",
       "    .dataframe thead th {\n",
       "        text-align: right;\n",
       "    }\n",
       "</style>\n",
       "<table border=\"1\" class=\"dataframe\">\n",
       "  <thead>\n",
       "    <tr style=\"text-align: right;\">\n",
       "      <th></th>\n",
       "      <th>id</th>\n",
       "      <th>huml</th>\n",
       "      <th>humw</th>\n",
       "      <th>ulnal</th>\n",
       "      <th>ulnaw</th>\n",
       "      <th>feml</th>\n",
       "      <th>femw</th>\n",
       "      <th>tibl</th>\n",
       "      <th>tibw</th>\n",
       "      <th>tarl</th>\n",
       "      <th>tarw</th>\n",
       "      <th>type</th>\n",
       "    </tr>\n",
       "  </thead>\n",
       "  <tbody>\n",
       "    <tr>\n",
       "      <th>0</th>\n",
       "      <td>0</td>\n",
       "      <td>80.78</td>\n",
       "      <td>6.68</td>\n",
       "      <td>72.01</td>\n",
       "      <td>4.88</td>\n",
       "      <td>41.81</td>\n",
       "      <td>3.70</td>\n",
       "      <td>5.50</td>\n",
       "      <td>4.03</td>\n",
       "      <td>38.70</td>\n",
       "      <td>3.84</td>\n",
       "      <td>SW</td>\n",
       "    </tr>\n",
       "    <tr>\n",
       "      <th>1</th>\n",
       "      <td>1</td>\n",
       "      <td>88.91</td>\n",
       "      <td>6.63</td>\n",
       "      <td>80.53</td>\n",
       "      <td>5.59</td>\n",
       "      <td>47.04</td>\n",
       "      <td>4.30</td>\n",
       "      <td>80.22</td>\n",
       "      <td>4.51</td>\n",
       "      <td>41.50</td>\n",
       "      <td>4.01</td>\n",
       "      <td>SW</td>\n",
       "    </tr>\n",
       "    <tr>\n",
       "      <th>2</th>\n",
       "      <td>2</td>\n",
       "      <td>79.97</td>\n",
       "      <td>6.37</td>\n",
       "      <td>69.26</td>\n",
       "      <td>5.28</td>\n",
       "      <td>43.07</td>\n",
       "      <td>3.90</td>\n",
       "      <td>75.35</td>\n",
       "      <td>4.04</td>\n",
       "      <td>38.31</td>\n",
       "      <td>3.34</td>\n",
       "      <td>SW</td>\n",
       "    </tr>\n",
       "    <tr>\n",
       "      <th>3</th>\n",
       "      <td>3</td>\n",
       "      <td>77.65</td>\n",
       "      <td>5.70</td>\n",
       "      <td>65.76</td>\n",
       "      <td>4.77</td>\n",
       "      <td>40.04</td>\n",
       "      <td>3.52</td>\n",
       "      <td>69.17</td>\n",
       "      <td>3.40</td>\n",
       "      <td>35.78</td>\n",
       "      <td>3.41</td>\n",
       "      <td>SW</td>\n",
       "    </tr>\n",
       "    <tr>\n",
       "      <th>4</th>\n",
       "      <td>4</td>\n",
       "      <td>62.80</td>\n",
       "      <td>4.84</td>\n",
       "      <td>52.09</td>\n",
       "      <td>3.73</td>\n",
       "      <td>33.95</td>\n",
       "      <td>2.72</td>\n",
       "      <td>56.27</td>\n",
       "      <td>2.96</td>\n",
       "      <td>31.88</td>\n",
       "      <td>3.13</td>\n",
       "      <td>SW</td>\n",
       "    </tr>\n",
       "  </tbody>\n",
       "</table>\n",
       "</div>"
      ],
      "text/plain": [
       "   id   huml  humw  ulnal  ulnaw   feml  femw   tibl  tibw   tarl  tarw type\n",
       "0   0  80.78  6.68  72.01   4.88  41.81  3.70   5.50  4.03  38.70  3.84   SW\n",
       "1   1  88.91  6.63  80.53   5.59  47.04  4.30  80.22  4.51  41.50  4.01   SW\n",
       "2   2  79.97  6.37  69.26   5.28  43.07  3.90  75.35  4.04  38.31  3.34   SW\n",
       "3   3  77.65  5.70  65.76   4.77  40.04  3.52  69.17  3.40  35.78  3.41   SW\n",
       "4   4  62.80  4.84  52.09   3.73  33.95  2.72  56.27  2.96  31.88  3.13   SW"
      ]
     },
     "execution_count": 2,
     "metadata": {},
     "output_type": "execute_result"
    }
   ],
   "source": [
    "import pandas as pd\n",
    "birds=pd.read_csv(\"bird.csv\")\n",
    "birds.head()"
   ]
  },
  {
   "cell_type": "markdown",
   "metadata": {},
   "source": [
    "### Step 4. See the random 5 entries"
   ]
  },
  {
   "cell_type": "code",
   "execution_count": 3,
   "metadata": {},
   "outputs": [
    {
     "data": {
      "text/html": [
       "<div>\n",
       "<style scoped>\n",
       "    .dataframe tbody tr th:only-of-type {\n",
       "        vertical-align: middle;\n",
       "    }\n",
       "\n",
       "    .dataframe tbody tr th {\n",
       "        vertical-align: top;\n",
       "    }\n",
       "\n",
       "    .dataframe thead th {\n",
       "        text-align: right;\n",
       "    }\n",
       "</style>\n",
       "<table border=\"1\" class=\"dataframe\">\n",
       "  <thead>\n",
       "    <tr style=\"text-align: right;\">\n",
       "      <th></th>\n",
       "      <th>id</th>\n",
       "      <th>huml</th>\n",
       "      <th>humw</th>\n",
       "      <th>ulnal</th>\n",
       "      <th>ulnaw</th>\n",
       "      <th>feml</th>\n",
       "      <th>femw</th>\n",
       "      <th>tibl</th>\n",
       "      <th>tibw</th>\n",
       "      <th>tarl</th>\n",
       "      <th>tarw</th>\n",
       "      <th>type</th>\n",
       "    </tr>\n",
       "  </thead>\n",
       "  <tbody>\n",
       "    <tr>\n",
       "      <th>26</th>\n",
       "      <td>26</td>\n",
       "      <td>47.51</td>\n",
       "      <td>7.23</td>\n",
       "      <td>32.49</td>\n",
       "      <td>8.26</td>\n",
       "      <td>50.29</td>\n",
       "      <td>5.00</td>\n",
       "      <td>75.20</td>\n",
       "      <td>4.95</td>\n",
       "      <td>22.51</td>\n",
       "      <td>10.73</td>\n",
       "      <td>SW</td>\n",
       "    </tr>\n",
       "    <tr>\n",
       "      <th>352</th>\n",
       "      <td>352</td>\n",
       "      <td>25.78</td>\n",
       "      <td>2.21</td>\n",
       "      <td>28.16</td>\n",
       "      <td>1.84</td>\n",
       "      <td>23.29</td>\n",
       "      <td>1.75</td>\n",
       "      <td>42.34</td>\n",
       "      <td>1.58</td>\n",
       "      <td>30.39</td>\n",
       "      <td>1.34</td>\n",
       "      <td>SO</td>\n",
       "    </tr>\n",
       "    <tr>\n",
       "      <th>348</th>\n",
       "      <td>348</td>\n",
       "      <td>22.25</td>\n",
       "      <td>1.92</td>\n",
       "      <td>25.93</td>\n",
       "      <td>1.61</td>\n",
       "      <td>22.15</td>\n",
       "      <td>1.66</td>\n",
       "      <td>38.48</td>\n",
       "      <td>1.46</td>\n",
       "      <td>26.74</td>\n",
       "      <td>1.23</td>\n",
       "      <td>SO</td>\n",
       "    </tr>\n",
       "    <tr>\n",
       "      <th>4</th>\n",
       "      <td>4</td>\n",
       "      <td>62.80</td>\n",
       "      <td>4.84</td>\n",
       "      <td>52.09</td>\n",
       "      <td>3.73</td>\n",
       "      <td>33.95</td>\n",
       "      <td>2.72</td>\n",
       "      <td>56.27</td>\n",
       "      <td>2.96</td>\n",
       "      <td>31.88</td>\n",
       "      <td>3.13</td>\n",
       "      <td>SW</td>\n",
       "    </tr>\n",
       "    <tr>\n",
       "      <th>358</th>\n",
       "      <td>358</td>\n",
       "      <td>19.40</td>\n",
       "      <td>1.88</td>\n",
       "      <td>25.08</td>\n",
       "      <td>1.57</td>\n",
       "      <td>18.89</td>\n",
       "      <td>1.52</td>\n",
       "      <td>36.89</td>\n",
       "      <td>1.31</td>\n",
       "      <td>29.86</td>\n",
       "      <td>1.04</td>\n",
       "      <td>SO</td>\n",
       "    </tr>\n",
       "  </tbody>\n",
       "</table>\n",
       "</div>"
      ],
      "text/plain": [
       "      id   huml  humw  ulnal  ulnaw   feml  femw   tibl  tibw   tarl   tarw  \\\n",
       "26    26  47.51  7.23  32.49   8.26  50.29  5.00  75.20  4.95  22.51  10.73   \n",
       "352  352  25.78  2.21  28.16   1.84  23.29  1.75  42.34  1.58  30.39   1.34   \n",
       "348  348  22.25  1.92  25.93   1.61  22.15  1.66  38.48  1.46  26.74   1.23   \n",
       "4      4  62.80  4.84  52.09   3.73  33.95  2.72  56.27  2.96  31.88   3.13   \n",
       "358  358  19.40  1.88  25.08   1.57  18.89  1.52  36.89  1.31  29.86   1.04   \n",
       "\n",
       "    type  \n",
       "26    SW  \n",
       "352   SO  \n",
       "348   SO  \n",
       "4     SW  \n",
       "358   SO  "
      ]
     },
     "execution_count": 3,
     "metadata": {},
     "output_type": "execute_result"
    }
   ],
   "source": [
    "birds.sample(n=5)"
   ]
  },
  {
   "cell_type": "markdown",
   "metadata": {},
   "source": [
    "### Step 5. What is the number of observations in the dataset?"
   ]
  },
  {
   "cell_type": "code",
   "execution_count": 4,
   "metadata": {},
   "outputs": [
    {
     "name": "stdout",
     "output_type": "stream",
     "text": [
      "420\n"
     ]
    }
   ],
   "source": [
    "print(len(birds))"
   ]
  },
  {
   "cell_type": "markdown",
   "metadata": {},
   "source": [
    "### Step 6. What is the number of columns in the dataset? "
   ]
  },
  {
   "cell_type": "code",
   "execution_count": 5,
   "metadata": {},
   "outputs": [
    {
     "name": "stdout",
     "output_type": "stream",
     "text": [
      "12\n"
     ]
    }
   ],
   "source": [
    "print(len(birds.columns))"
   ]
  },
  {
   "cell_type": "markdown",
   "metadata": {},
   "source": [
    "### Step 7. Print the name of all the columns."
   ]
  },
  {
   "cell_type": "code",
   "execution_count": 6,
   "metadata": {},
   "outputs": [
    {
     "name": "stdout",
     "output_type": "stream",
     "text": [
      "['id', 'huml', 'humw', 'ulnal', 'ulnaw', 'feml', 'femw', 'tibl', 'tibw', 'tarl', 'tarw', 'type']\n"
     ]
    }
   ],
   "source": [
    "print(list(birds.columns))"
   ]
  },
  {
   "cell_type": "markdown",
   "metadata": {},
   "source": [
    "### Step 8. What is the name of 10th column?"
   ]
  },
  {
   "cell_type": "code",
   "execution_count": 7,
   "metadata": {},
   "outputs": [
    {
     "data": {
      "text/plain": [
       "['t', 'a', 'r', 'l']"
      ]
     },
     "execution_count": 7,
     "metadata": {},
     "output_type": "execute_result"
    }
   ],
   "source": [
    "list(birds.columns[9])"
   ]
  },
  {
   "cell_type": "markdown",
   "metadata": {},
   "source": [
    "### Step 9. What is the type of the observations of the 2nd column?"
   ]
  },
  {
   "cell_type": "code",
   "execution_count": 8,
   "metadata": {},
   "outputs": [
    {
     "data": {
      "text/plain": [
       "dtype('float64')"
      ]
     },
     "execution_count": 8,
     "metadata": {},
     "output_type": "execute_result"
    }
   ],
   "source": [
    "birds.dtypes[1]"
   ]
  },
  {
   "cell_type": "markdown",
   "metadata": {},
   "source": [
    "### Step 10. How is the dataset indexed?"
   ]
  },
  {
   "cell_type": "code",
   "execution_count": 11,
   "metadata": {},
   "outputs": [
    {
     "data": {
      "text/plain": [
       "RangeIndex(start=0, stop=420, step=1)"
      ]
     },
     "execution_count": 11,
     "metadata": {},
     "output_type": "execute_result"
    }
   ],
   "source": [
    "birds.index"
   ]
  },
  {
   "cell_type": "markdown",
   "metadata": {},
   "source": [
    "### Step 11. Set the 'type' column as the index of the dataframe"
   ]
  },
  {
   "cell_type": "code",
   "execution_count": 12,
   "metadata": {},
   "outputs": [
    {
     "data": {
      "text/html": [
       "<div>\n",
       "<style scoped>\n",
       "    .dataframe tbody tr th:only-of-type {\n",
       "        vertical-align: middle;\n",
       "    }\n",
       "\n",
       "    .dataframe tbody tr th {\n",
       "        vertical-align: top;\n",
       "    }\n",
       "\n",
       "    .dataframe thead th {\n",
       "        text-align: right;\n",
       "    }\n",
       "</style>\n",
       "<table border=\"1\" class=\"dataframe\">\n",
       "  <thead>\n",
       "    <tr style=\"text-align: right;\">\n",
       "      <th></th>\n",
       "      <th>id</th>\n",
       "      <th>huml</th>\n",
       "      <th>humw</th>\n",
       "      <th>ulnal</th>\n",
       "      <th>ulnaw</th>\n",
       "      <th>feml</th>\n",
       "      <th>femw</th>\n",
       "      <th>tibl</th>\n",
       "      <th>tibw</th>\n",
       "      <th>tarl</th>\n",
       "      <th>tarw</th>\n",
       "    </tr>\n",
       "    <tr>\n",
       "      <th>type</th>\n",
       "      <th></th>\n",
       "      <th></th>\n",
       "      <th></th>\n",
       "      <th></th>\n",
       "      <th></th>\n",
       "      <th></th>\n",
       "      <th></th>\n",
       "      <th></th>\n",
       "      <th></th>\n",
       "      <th></th>\n",
       "      <th></th>\n",
       "    </tr>\n",
       "  </thead>\n",
       "  <tbody>\n",
       "    <tr>\n",
       "      <th>SW</th>\n",
       "      <td>0</td>\n",
       "      <td>80.78</td>\n",
       "      <td>6.68</td>\n",
       "      <td>72.01</td>\n",
       "      <td>4.88</td>\n",
       "      <td>41.81</td>\n",
       "      <td>3.70</td>\n",
       "      <td>5.50</td>\n",
       "      <td>4.03</td>\n",
       "      <td>38.70</td>\n",
       "      <td>3.84</td>\n",
       "    </tr>\n",
       "    <tr>\n",
       "      <th>SW</th>\n",
       "      <td>1</td>\n",
       "      <td>88.91</td>\n",
       "      <td>6.63</td>\n",
       "      <td>80.53</td>\n",
       "      <td>5.59</td>\n",
       "      <td>47.04</td>\n",
       "      <td>4.30</td>\n",
       "      <td>80.22</td>\n",
       "      <td>4.51</td>\n",
       "      <td>41.50</td>\n",
       "      <td>4.01</td>\n",
       "    </tr>\n",
       "    <tr>\n",
       "      <th>SW</th>\n",
       "      <td>2</td>\n",
       "      <td>79.97</td>\n",
       "      <td>6.37</td>\n",
       "      <td>69.26</td>\n",
       "      <td>5.28</td>\n",
       "      <td>43.07</td>\n",
       "      <td>3.90</td>\n",
       "      <td>75.35</td>\n",
       "      <td>4.04</td>\n",
       "      <td>38.31</td>\n",
       "      <td>3.34</td>\n",
       "    </tr>\n",
       "    <tr>\n",
       "      <th>SW</th>\n",
       "      <td>3</td>\n",
       "      <td>77.65</td>\n",
       "      <td>5.70</td>\n",
       "      <td>65.76</td>\n",
       "      <td>4.77</td>\n",
       "      <td>40.04</td>\n",
       "      <td>3.52</td>\n",
       "      <td>69.17</td>\n",
       "      <td>3.40</td>\n",
       "      <td>35.78</td>\n",
       "      <td>3.41</td>\n",
       "    </tr>\n",
       "    <tr>\n",
       "      <th>SW</th>\n",
       "      <td>4</td>\n",
       "      <td>62.80</td>\n",
       "      <td>4.84</td>\n",
       "      <td>52.09</td>\n",
       "      <td>3.73</td>\n",
       "      <td>33.95</td>\n",
       "      <td>2.72</td>\n",
       "      <td>56.27</td>\n",
       "      <td>2.96</td>\n",
       "      <td>31.88</td>\n",
       "      <td>3.13</td>\n",
       "    </tr>\n",
       "    <tr>\n",
       "      <th>...</th>\n",
       "      <td>...</td>\n",
       "      <td>...</td>\n",
       "      <td>...</td>\n",
       "      <td>...</td>\n",
       "      <td>...</td>\n",
       "      <td>...</td>\n",
       "      <td>...</td>\n",
       "      <td>...</td>\n",
       "      <td>...</td>\n",
       "      <td>...</td>\n",
       "      <td>...</td>\n",
       "    </tr>\n",
       "    <tr>\n",
       "      <th>SO</th>\n",
       "      <td>415</td>\n",
       "      <td>17.96</td>\n",
       "      <td>1.63</td>\n",
       "      <td>19.25</td>\n",
       "      <td>1.33</td>\n",
       "      <td>18.36</td>\n",
       "      <td>1.54</td>\n",
       "      <td>31.25</td>\n",
       "      <td>1.33</td>\n",
       "      <td>21.99</td>\n",
       "      <td>1.15</td>\n",
       "    </tr>\n",
       "    <tr>\n",
       "      <th>SO</th>\n",
       "      <td>416</td>\n",
       "      <td>19.21</td>\n",
       "      <td>1.64</td>\n",
       "      <td>20.76</td>\n",
       "      <td>1.49</td>\n",
       "      <td>19.24</td>\n",
       "      <td>1.45</td>\n",
       "      <td>33.21</td>\n",
       "      <td>1.28</td>\n",
       "      <td>23.60</td>\n",
       "      <td>1.15</td>\n",
       "    </tr>\n",
       "    <tr>\n",
       "      <th>SO</th>\n",
       "      <td>417</td>\n",
       "      <td>18.79</td>\n",
       "      <td>1.63</td>\n",
       "      <td>19.83</td>\n",
       "      <td>1.53</td>\n",
       "      <td>20.96</td>\n",
       "      <td>1.43</td>\n",
       "      <td>34.45</td>\n",
       "      <td>1.41</td>\n",
       "      <td>22.86</td>\n",
       "      <td>1.21</td>\n",
       "    </tr>\n",
       "    <tr>\n",
       "      <th>SO</th>\n",
       "      <td>418</td>\n",
       "      <td>20.38</td>\n",
       "      <td>1.78</td>\n",
       "      <td>22.53</td>\n",
       "      <td>1.50</td>\n",
       "      <td>21.35</td>\n",
       "      <td>1.48</td>\n",
       "      <td>36.09</td>\n",
       "      <td>1.53</td>\n",
       "      <td>25.98</td>\n",
       "      <td>1.24</td>\n",
       "    </tr>\n",
       "    <tr>\n",
       "      <th>SO</th>\n",
       "      <td>419</td>\n",
       "      <td>17.89</td>\n",
       "      <td>1.44</td>\n",
       "      <td>19.26</td>\n",
       "      <td>1.10</td>\n",
       "      <td>17.62</td>\n",
       "      <td>1.34</td>\n",
       "      <td>29.81</td>\n",
       "      <td>1.24</td>\n",
       "      <td>21.69</td>\n",
       "      <td>1.05</td>\n",
       "    </tr>\n",
       "  </tbody>\n",
       "</table>\n",
       "<p>420 rows × 11 columns</p>\n",
       "</div>"
      ],
      "text/plain": [
       "       id   huml  humw  ulnal  ulnaw   feml  femw   tibl  tibw   tarl  tarw\n",
       "type                                                                       \n",
       "SW      0  80.78  6.68  72.01   4.88  41.81  3.70   5.50  4.03  38.70  3.84\n",
       "SW      1  88.91  6.63  80.53   5.59  47.04  4.30  80.22  4.51  41.50  4.01\n",
       "SW      2  79.97  6.37  69.26   5.28  43.07  3.90  75.35  4.04  38.31  3.34\n",
       "SW      3  77.65  5.70  65.76   4.77  40.04  3.52  69.17  3.40  35.78  3.41\n",
       "SW      4  62.80  4.84  52.09   3.73  33.95  2.72  56.27  2.96  31.88  3.13\n",
       "...   ...    ...   ...    ...    ...    ...   ...    ...   ...    ...   ...\n",
       "SO    415  17.96  1.63  19.25   1.33  18.36  1.54  31.25  1.33  21.99  1.15\n",
       "SO    416  19.21  1.64  20.76   1.49  19.24  1.45  33.21  1.28  23.60  1.15\n",
       "SO    417  18.79  1.63  19.83   1.53  20.96  1.43  34.45  1.41  22.86  1.21\n",
       "SO    418  20.38  1.78  22.53   1.50  21.35  1.48  36.09  1.53  25.98  1.24\n",
       "SO    419  17.89  1.44  19.26   1.10  17.62  1.34  29.81  1.24  21.69  1.05\n",
       "\n",
       "[420 rows x 11 columns]"
      ]
     },
     "execution_count": 12,
     "metadata": {},
     "output_type": "execute_result"
    }
   ],
   "source": [
    "index_type=birds.set_index('type')\n",
    "index_type"
   ]
  },
  {
   "cell_type": "markdown",
   "metadata": {},
   "source": [
    "### Step 12. Print only the column huml"
   ]
  },
  {
   "cell_type": "code",
   "execution_count": 13,
   "metadata": {},
   "outputs": [
    {
     "data": {
      "text/html": [
       "<div>\n",
       "<style scoped>\n",
       "    .dataframe tbody tr th:only-of-type {\n",
       "        vertical-align: middle;\n",
       "    }\n",
       "\n",
       "    .dataframe tbody tr th {\n",
       "        vertical-align: top;\n",
       "    }\n",
       "\n",
       "    .dataframe thead th {\n",
       "        text-align: right;\n",
       "    }\n",
       "</style>\n",
       "<table border=\"1\" class=\"dataframe\">\n",
       "  <thead>\n",
       "    <tr style=\"text-align: right;\">\n",
       "      <th></th>\n",
       "      <th>huml</th>\n",
       "    </tr>\n",
       "  </thead>\n",
       "  <tbody>\n",
       "    <tr>\n",
       "      <th>0</th>\n",
       "      <td>80.78</td>\n",
       "    </tr>\n",
       "    <tr>\n",
       "      <th>1</th>\n",
       "      <td>88.91</td>\n",
       "    </tr>\n",
       "    <tr>\n",
       "      <th>2</th>\n",
       "      <td>79.97</td>\n",
       "    </tr>\n",
       "    <tr>\n",
       "      <th>3</th>\n",
       "      <td>77.65</td>\n",
       "    </tr>\n",
       "    <tr>\n",
       "      <th>4</th>\n",
       "      <td>62.80</td>\n",
       "    </tr>\n",
       "    <tr>\n",
       "      <th>...</th>\n",
       "      <td>...</td>\n",
       "    </tr>\n",
       "    <tr>\n",
       "      <th>415</th>\n",
       "      <td>17.96</td>\n",
       "    </tr>\n",
       "    <tr>\n",
       "      <th>416</th>\n",
       "      <td>19.21</td>\n",
       "    </tr>\n",
       "    <tr>\n",
       "      <th>417</th>\n",
       "      <td>18.79</td>\n",
       "    </tr>\n",
       "    <tr>\n",
       "      <th>418</th>\n",
       "      <td>20.38</td>\n",
       "    </tr>\n",
       "    <tr>\n",
       "      <th>419</th>\n",
       "      <td>17.89</td>\n",
       "    </tr>\n",
       "  </tbody>\n",
       "</table>\n",
       "<p>420 rows × 1 columns</p>\n",
       "</div>"
      ],
      "text/plain": [
       "      huml\n",
       "0    80.78\n",
       "1    88.91\n",
       "2    79.97\n",
       "3    77.65\n",
       "4    62.80\n",
       "..     ...\n",
       "415  17.96\n",
       "416  19.21\n",
       "417  18.79\n",
       "418  20.38\n",
       "419  17.89\n",
       "\n",
       "[420 rows x 1 columns]"
      ]
     },
     "execution_count": 13,
     "metadata": {},
     "output_type": "execute_result"
    }
   ],
   "source": [
    "birds[['huml']]"
   ]
  },
  {
   "cell_type": "markdown",
   "metadata": {},
   "source": [
    "### Step 13. Print the \"huml\",\"humw\" columns from SW and P"
   ]
  },
  {
   "cell_type": "code",
   "execution_count": 14,
   "metadata": {},
   "outputs": [
    {
     "data": {
      "text/html": [
       "<div>\n",
       "<style scoped>\n",
       "    .dataframe tbody tr th:only-of-type {\n",
       "        vertical-align: middle;\n",
       "    }\n",
       "\n",
       "    .dataframe tbody tr th {\n",
       "        vertical-align: top;\n",
       "    }\n",
       "\n",
       "    .dataframe thead th {\n",
       "        text-align: right;\n",
       "    }\n",
       "</style>\n",
       "<table border=\"1\" class=\"dataframe\">\n",
       "  <thead>\n",
       "    <tr style=\"text-align: right;\">\n",
       "      <th></th>\n",
       "      <th>huml</th>\n",
       "      <th>humw</th>\n",
       "    </tr>\n",
       "  </thead>\n",
       "  <tbody>\n",
       "    <tr>\n",
       "      <th>0</th>\n",
       "      <td>80.78</td>\n",
       "      <td>6.68</td>\n",
       "    </tr>\n",
       "    <tr>\n",
       "      <th>1</th>\n",
       "      <td>88.91</td>\n",
       "      <td>6.63</td>\n",
       "    </tr>\n",
       "    <tr>\n",
       "      <th>2</th>\n",
       "      <td>79.97</td>\n",
       "      <td>6.37</td>\n",
       "    </tr>\n",
       "    <tr>\n",
       "      <th>3</th>\n",
       "      <td>77.65</td>\n",
       "      <td>5.70</td>\n",
       "    </tr>\n",
       "    <tr>\n",
       "      <th>4</th>\n",
       "      <td>62.80</td>\n",
       "      <td>4.84</td>\n",
       "    </tr>\n",
       "    <tr>\n",
       "      <th>...</th>\n",
       "      <td>...</td>\n",
       "      <td>...</td>\n",
       "    </tr>\n",
       "    <tr>\n",
       "      <th>287</th>\n",
       "      <td>27.72</td>\n",
       "      <td>2.67</td>\n",
       "    </tr>\n",
       "    <tr>\n",
       "      <th>288</th>\n",
       "      <td>29.14</td>\n",
       "      <td>2.75</td>\n",
       "    </tr>\n",
       "    <tr>\n",
       "      <th>289</th>\n",
       "      <td>27.85</td>\n",
       "      <td>2.65</td>\n",
       "    </tr>\n",
       "    <tr>\n",
       "      <th>290</th>\n",
       "      <td>20.06</td>\n",
       "      <td>1.73</td>\n",
       "    </tr>\n",
       "    <tr>\n",
       "      <th>291</th>\n",
       "      <td>41.60</td>\n",
       "      <td>3.74</td>\n",
       "    </tr>\n",
       "  </tbody>\n",
       "</table>\n",
       "<p>154 rows × 2 columns</p>\n",
       "</div>"
      ],
      "text/plain": [
       "      huml  humw\n",
       "0    80.78  6.68\n",
       "1    88.91  6.63\n",
       "2    79.97  6.37\n",
       "3    77.65  5.70\n",
       "4    62.80  4.84\n",
       "..     ...   ...\n",
       "287  27.72  2.67\n",
       "288  29.14  2.75\n",
       "289  27.85  2.65\n",
       "290  20.06  1.73\n",
       "291  41.60  3.74\n",
       "\n",
       "[154 rows x 2 columns]"
      ]
     },
     "execution_count": 14,
     "metadata": {},
     "output_type": "execute_result"
    }
   ],
   "source": [
    "birds[(birds['type']=='SW') | (birds['type']=='P')][['huml','humw']]"
   ]
  },
  {
   "cell_type": "markdown",
   "metadata": {},
   "source": [
    "### Step 14. Select the rows 3 to 7 and the columns 3 to 6"
   ]
  },
  {
   "cell_type": "code",
   "execution_count": 15,
   "metadata": {},
   "outputs": [
    {
     "name": "stdout",
     "output_type": "stream",
     "text": [
      "   ulnal  ulnaw   feml  femw\n",
      "3  65.76   4.77  40.04  3.52\n",
      "4  52.09   3.73  33.95  2.72\n",
      "5  50.46   3.47  49.52  4.41\n",
      "6  67.39   4.50  42.07  3.41\n",
      "7  74.52   4.55  44.46  3.78\n"
     ]
    }
   ],
   "source": [
    "print(birds.iloc[[3,4,5,6,7], [3,4,5,6]])"
   ]
  },
  {
   "cell_type": "markdown",
   "metadata": {},
   "source": [
    "### Step 15. Select rows where df.femw is greater than  5.2 or less than 10.5"
   ]
  },
  {
   "cell_type": "code",
   "execution_count": 16,
   "metadata": {},
   "outputs": [
    {
     "data": {
      "text/html": [
       "<div>\n",
       "<style scoped>\n",
       "    .dataframe tbody tr th:only-of-type {\n",
       "        vertical-align: middle;\n",
       "    }\n",
       "\n",
       "    .dataframe tbody tr th {\n",
       "        vertical-align: top;\n",
       "    }\n",
       "\n",
       "    .dataframe thead th {\n",
       "        text-align: right;\n",
       "    }\n",
       "</style>\n",
       "<table border=\"1\" class=\"dataframe\">\n",
       "  <thead>\n",
       "    <tr style=\"text-align: right;\">\n",
       "      <th></th>\n",
       "      <th>id</th>\n",
       "      <th>huml</th>\n",
       "      <th>humw</th>\n",
       "      <th>ulnal</th>\n",
       "      <th>ulnaw</th>\n",
       "      <th>feml</th>\n",
       "      <th>femw</th>\n",
       "      <th>tibl</th>\n",
       "      <th>tibw</th>\n",
       "      <th>tarl</th>\n",
       "      <th>tarw</th>\n",
       "      <th>type</th>\n",
       "    </tr>\n",
       "  </thead>\n",
       "  <tbody>\n",
       "    <tr>\n",
       "      <th>120</th>\n",
       "      <td>120</td>\n",
       "      <td>118.52</td>\n",
       "      <td>6.87</td>\n",
       "      <td>134.91</td>\n",
       "      <td>5.06</td>\n",
       "      <td>78.20</td>\n",
       "      <td>5.24</td>\n",
       "      <td>132.00</td>\n",
       "      <td>5.38</td>\n",
       "      <td>85.28</td>\n",
       "      <td>4.74</td>\n",
       "      <td>W</td>\n",
       "    </tr>\n",
       "    <tr>\n",
       "      <th>83</th>\n",
       "      <td>83</td>\n",
       "      <td>154.30</td>\n",
       "      <td>7.46</td>\n",
       "      <td>154.66</td>\n",
       "      <td>6.09</td>\n",
       "      <td>51.08</td>\n",
       "      <td>5.27</td>\n",
       "      <td>112.75</td>\n",
       "      <td>5.36</td>\n",
       "      <td>65.16</td>\n",
       "      <td>4.07</td>\n",
       "      <td>SW</td>\n",
       "    </tr>\n",
       "    <tr>\n",
       "      <th>45</th>\n",
       "      <td>45</td>\n",
       "      <td>108.84</td>\n",
       "      <td>6.98</td>\n",
       "      <td>116.00</td>\n",
       "      <td>4.51</td>\n",
       "      <td>48.81</td>\n",
       "      <td>5.31</td>\n",
       "      <td>87.72</td>\n",
       "      <td>7.11</td>\n",
       "      <td>47.46</td>\n",
       "      <td>4.93</td>\n",
       "      <td>SW</td>\n",
       "    </tr>\n",
       "    <tr>\n",
       "      <th>121</th>\n",
       "      <td>121</td>\n",
       "      <td>120.26</td>\n",
       "      <td>7.01</td>\n",
       "      <td>132.42</td>\n",
       "      <td>5.40</td>\n",
       "      <td>67.00</td>\n",
       "      <td>5.35</td>\n",
       "      <td>130.10</td>\n",
       "      <td>5.22</td>\n",
       "      <td>87.53</td>\n",
       "      <td>5.12</td>\n",
       "      <td>W</td>\n",
       "    </tr>\n",
       "    <tr>\n",
       "      <th>51</th>\n",
       "      <td>51</td>\n",
       "      <td>161.00</td>\n",
       "      <td>8.22</td>\n",
       "      <td>181.00</td>\n",
       "      <td>6.72</td>\n",
       "      <td>49.83</td>\n",
       "      <td>5.36</td>\n",
       "      <td>69.04</td>\n",
       "      <td>5.18</td>\n",
       "      <td>37.31</td>\n",
       "      <td>7.44</td>\n",
       "      <td>SW</td>\n",
       "    </tr>\n",
       "    <tr>\n",
       "      <th>...</th>\n",
       "      <td>...</td>\n",
       "      <td>...</td>\n",
       "      <td>...</td>\n",
       "      <td>...</td>\n",
       "      <td>...</td>\n",
       "      <td>...</td>\n",
       "      <td>...</td>\n",
       "      <td>...</td>\n",
       "      <td>...</td>\n",
       "      <td>...</td>\n",
       "      <td>...</td>\n",
       "      <td>...</td>\n",
       "    </tr>\n",
       "    <tr>\n",
       "      <th>212</th>\n",
       "      <td>212</td>\n",
       "      <td>117.37</td>\n",
       "      <td>9.25</td>\n",
       "      <td>136.52</td>\n",
       "      <td>7.00</td>\n",
       "      <td>87.49</td>\n",
       "      <td>8.92</td>\n",
       "      <td>119.17</td>\n",
       "      <td>7.89</td>\n",
       "      <td>86.61</td>\n",
       "      <td>7.36</td>\n",
       "      <td>R</td>\n",
       "    </tr>\n",
       "    <tr>\n",
       "      <th>38</th>\n",
       "      <td>38</td>\n",
       "      <td>272.00</td>\n",
       "      <td>14.86</td>\n",
       "      <td>320.00</td>\n",
       "      <td>10.42</td>\n",
       "      <td>91.60</td>\n",
       "      <td>9.71</td>\n",
       "      <td>132.00</td>\n",
       "      <td>10.23</td>\n",
       "      <td>81.77</td>\n",
       "      <td>8.91</td>\n",
       "      <td>SW</td>\n",
       "    </tr>\n",
       "    <tr>\n",
       "      <th>39</th>\n",
       "      <td>39</td>\n",
       "      <td>270.00</td>\n",
       "      <td>14.25</td>\n",
       "      <td>310.00</td>\n",
       "      <td>10.90</td>\n",
       "      <td>86.20</td>\n",
       "      <td>9.96</td>\n",
       "      <td>125.76</td>\n",
       "      <td>9.63</td>\n",
       "      <td>79.18</td>\n",
       "      <td>10.05</td>\n",
       "      <td>SW</td>\n",
       "    </tr>\n",
       "    <tr>\n",
       "      <th>58</th>\n",
       "      <td>58</td>\n",
       "      <td>420.00</td>\n",
       "      <td>17.84</td>\n",
       "      <td>422.00</td>\n",
       "      <td>11.72</td>\n",
       "      <td>110.54</td>\n",
       "      <td>9.99</td>\n",
       "      <td>237.00</td>\n",
       "      <td>11.03</td>\n",
       "      <td>128.35</td>\n",
       "      <td>8.93</td>\n",
       "      <td>SW</td>\n",
       "    </tr>\n",
       "    <tr>\n",
       "      <th>201</th>\n",
       "      <td>201</td>\n",
       "      <td>118.75</td>\n",
       "      <td>11.90</td>\n",
       "      <td>104.68</td>\n",
       "      <td>4.77</td>\n",
       "      <td>108.85</td>\n",
       "      <td>10.29</td>\n",
       "      <td>183.00</td>\n",
       "      <td>9.69</td>\n",
       "      <td>134.00</td>\n",
       "      <td>7.96</td>\n",
       "      <td>T</td>\n",
       "    </tr>\n",
       "  </tbody>\n",
       "</table>\n",
       "<p>71 rows × 12 columns</p>\n",
       "</div>"
      ],
      "text/plain": [
       "      id    huml   humw   ulnal  ulnaw    feml   femw    tibl   tibw    tarl  \\\n",
       "120  120  118.52   6.87  134.91   5.06   78.20   5.24  132.00   5.38   85.28   \n",
       "83    83  154.30   7.46  154.66   6.09   51.08   5.27  112.75   5.36   65.16   \n",
       "45    45  108.84   6.98  116.00   4.51   48.81   5.31   87.72   7.11   47.46   \n",
       "121  121  120.26   7.01  132.42   5.40   67.00   5.35  130.10   5.22   87.53   \n",
       "51    51  161.00   8.22  181.00   6.72   49.83   5.36   69.04   5.18   37.31   \n",
       "..   ...     ...    ...     ...    ...     ...    ...     ...    ...     ...   \n",
       "212  212  117.37   9.25  136.52   7.00   87.49   8.92  119.17   7.89   86.61   \n",
       "38    38  272.00  14.86  320.00  10.42   91.60   9.71  132.00  10.23   81.77   \n",
       "39    39  270.00  14.25  310.00  10.90   86.20   9.96  125.76   9.63   79.18   \n",
       "58    58  420.00  17.84  422.00  11.72  110.54   9.99  237.00  11.03  128.35   \n",
       "201  201  118.75  11.90  104.68   4.77  108.85  10.29  183.00   9.69  134.00   \n",
       "\n",
       "      tarw type  \n",
       "120   4.74    W  \n",
       "83    4.07   SW  \n",
       "45    4.93   SW  \n",
       "121   5.12    W  \n",
       "51    7.44   SW  \n",
       "..     ...  ...  \n",
       "212   7.36    R  \n",
       "38    8.91   SW  \n",
       "39   10.05   SW  \n",
       "58    8.93   SW  \n",
       "201   7.96    T  \n",
       "\n",
       "[71 rows x 12 columns]"
      ]
     },
     "execution_count": 16,
     "metadata": {},
     "output_type": "execute_result"
    }
   ],
   "source": [
    "birds[(birds['femw']>5.2) & (birds['femw']<10.5)].sort_values(['femw'])"
   ]
  },
  {
   "cell_type": "markdown",
   "metadata": {},
   "source": [
    "### Step 16. Select the third cell down in the column named tarl"
   ]
  },
  {
   "cell_type": "code",
   "execution_count": 17,
   "metadata": {},
   "outputs": [
    {
     "data": {
      "text/plain": [
       "38.31"
      ]
     },
     "execution_count": 17,
     "metadata": {},
     "output_type": "execute_result"
    }
   ],
   "source": [
    "birds['tarl'][2]"
   ]
  },
  {
   "cell_type": "markdown",
   "metadata": {},
   "source": [
    "### Step 17. Compute how many values are non-missing for each feature  over the entire record."
   ]
  },
  {
   "cell_type": "code",
   "execution_count": 18,
   "metadata": {},
   "outputs": [
    {
     "data": {
      "text/plain": [
       "id       0\n",
       "huml     1\n",
       "humw     1\n",
       "ulnal    3\n",
       "ulnaw    2\n",
       "feml     2\n",
       "femw     1\n",
       "tibl     2\n",
       "tibw     1\n",
       "tarl     1\n",
       "tarw     1\n",
       "type     0\n",
       "dtype: int64"
      ]
     },
     "execution_count": 18,
     "metadata": {},
     "output_type": "execute_result"
    }
   ],
   "source": [
    "birds.isnull().sum()"
   ]
  },
  {
   "cell_type": "markdown",
   "metadata": {},
   "source": [
    "### Step18. Calculate Mean and Median of \"tibl\" and \"tibw\" columns"
   ]
  },
  {
   "cell_type": "code",
   "execution_count": 19,
   "metadata": {},
   "outputs": [
    {
     "name": "stdout",
     "output_type": "stream",
     "text": [
      "Mean of \"tibl\" and \"tibw\" columns are 64.66 and 3.18 respectievly.\n",
      "Median of \"tibl\" and \"tibw\"columns are 52.12 and 2.49 respectievly.\n"
     ]
    }
   ],
   "source": [
    "print('Mean of \"tibl\" and \"tibw\" columns are {} and {} respectievly.'\n",
    "      .format(birds.mean()[\"tibl\"].round(2), birds.mean()[\"tibw\"].round(2)))\n",
    "print('Median of \"tibl\" and \"tibw\"columns are {} and {} respectievly.'\n",
    "      .format(birds.median()[\"tibl\"].round(2), birds.median()[\"tibw\"].round(2)))"
   ]
  },
  {
   "cell_type": "markdown",
   "metadata": {},
   "source": [
    "### Step19. Discover what is the mean \"ulnaw\" per every bird category  (use Groupby)"
   ]
  },
  {
   "cell_type": "code",
   "execution_count": 20,
   "metadata": {},
   "outputs": [
    {
     "data": {
      "text/html": [
       "<div>\n",
       "<style scoped>\n",
       "    .dataframe tbody tr th:only-of-type {\n",
       "        vertical-align: middle;\n",
       "    }\n",
       "\n",
       "    .dataframe tbody tr th {\n",
       "        vertical-align: top;\n",
       "    }\n",
       "\n",
       "    .dataframe thead th {\n",
       "        text-align: right;\n",
       "    }\n",
       "</style>\n",
       "<table border=\"1\" class=\"dataframe\">\n",
       "  <thead>\n",
       "    <tr style=\"text-align: right;\">\n",
       "      <th></th>\n",
       "      <th>ulnaw</th>\n",
       "    </tr>\n",
       "    <tr>\n",
       "      <th>type</th>\n",
       "      <th></th>\n",
       "    </tr>\n",
       "  </thead>\n",
       "  <tbody>\n",
       "    <tr>\n",
       "      <th>P</th>\n",
       "      <td>2.476316</td>\n",
       "    </tr>\n",
       "    <tr>\n",
       "      <th>R</th>\n",
       "      <td>4.813265</td>\n",
       "    </tr>\n",
       "    <tr>\n",
       "      <th>SO</th>\n",
       "      <td>1.743858</td>\n",
       "    </tr>\n",
       "    <tr>\n",
       "      <th>SW</th>\n",
       "      <td>5.221638</td>\n",
       "    </tr>\n",
       "    <tr>\n",
       "      <th>T</th>\n",
       "      <td>3.471739</td>\n",
       "    </tr>\n",
       "    <tr>\n",
       "      <th>W</th>\n",
       "      <td>4.102615</td>\n",
       "    </tr>\n",
       "  </tbody>\n",
       "</table>\n",
       "</div>"
      ],
      "text/plain": [
       "         ulnaw\n",
       "type          \n",
       "P     2.476316\n",
       "R     4.813265\n",
       "SO    1.743858\n",
       "SW    5.221638\n",
       "T     3.471739\n",
       "W     4.102615"
      ]
     },
     "execution_count": 20,
     "metadata": {},
     "output_type": "execute_result"
    }
   ],
   "source": [
    "birds.groupby('type')[['ulnaw']].mean()"
   ]
  },
  {
   "cell_type": "markdown",
   "metadata": {},
   "source": [
    "### Step20. Plot graph between all features refuse \"type\" and \"id\"  columns "
   ]
  },
  {
   "cell_type": "code",
   "execution_count": 22,
   "metadata": {},
   "outputs": [
    {
     "data": {
      "text/plain": [
       "<AxesSubplot:xlabel='id'>"
      ]
     },
     "execution_count": 22,
     "metadata": {},
     "output_type": "execute_result"
    },
    {
     "data": {
      "image/png": "[encoded data removed]",
      "text/plain": [
       "<Figure size 432x288 with 1 Axes>"
      ]
     },
     "metadata": {
      "needs_background": "light"
     },
     "output_type": "display_data"
    },
    {
     "data": {
      "image/png": "[encoded data removed]",
      "text/plain": [
       "<Figure size 432x288 with 1 Axes>"
      ]
     },
     "metadata": {
      "needs_background": "light"
     },
     "output_type": "display_data"
    }
   ],
   "source": [
    "birds.plot('id', [1,3,5,7,9], kind='line')\n",
    "birds.plot('id', [2,4,6,8,10], kind='line')"
   ]
  }
 ],
 "metadata": {
  "anaconda-cloud": {},
  "kernelspec": {
   "display_name": "Python 3",
   "language": "python",
   "name": "python3"
  },
  "language_info": {
   "codemirror_mode": {
    "name": "ipython",
    "version": 3
   },
   "file_extension": ".py",
   "mimetype": "text/x-python",
   "name": "python",
   "nbconvert_exporter": "python",
   "pygments_lexer": "ipython3",
   "version": "3.8.8"
  }
 },
 "nbformat": 4,
 "nbformat_minor": 1
}
