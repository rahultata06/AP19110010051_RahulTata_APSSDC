{
 "cells": [
  {
   "cell_type": "code",
   "execution_count": 1,
   "id": "1de468b5",
   "metadata": {},
   "outputs": [],
   "source": [
    "import re"
   ]
  },
  {
   "cell_type": "markdown",
   "id": "57acfaf9",
   "metadata": {},
   "source": [
    "### Write a pattern to display 4 digit numbers from the list1 list1 = [5841, 987654321, 453267, 1234, 675, 8797]"
   ]
  },
  {
   "cell_type": "code",
   "execution_count": 3,
   "id": "a55ef70e",
   "metadata": {},
   "outputs": [
    {
     "name": "stdout",
     "output_type": "stream",
     "text": [
      "The 4 digit numbers in the list are: \n",
      "5841  1234  8797  "
     ]
    }
   ],
   "source": [
    "list = ['5841', '987654321', '453267', '1234', '675', '8797']\n",
    "print(\"The 4 digit numbers in the list are: \")\n",
    "for i in list:\n",
    "    if re.findall('^[0-9]{4}$', i):\n",
    "        print(i,end='  ')"
   ]
  },
  {
   "cell_type": "markdown",
   "id": "192fec3a",
   "metadata": {},
   "source": [
    "### Validate a phone number using patterns. ph_list = [9876543210, 8123456789, 7890123456, 789654, 1234567890]\n",
    "* The should start with 6, 7, 8, or 9\n",
    "* The digits in number should be 10"
   ]
  },
  {
   "cell_type": "code",
   "execution_count": 4,
   "id": "90debfc5",
   "metadata": {},
   "outputs": [
    {
     "name": "stdout",
     "output_type": "stream",
     "text": [
      "The valid phone numbers are: \n",
      "9876543210  8123456789  7890123456  "
     ]
    }
   ],
   "source": [
    "ph_list = ['9876543210', '8123456789', '7890123456', '789654', '1234567890']\n",
    "print(\"The valid phone numbers are: \")\n",
    "for i in ph_list:\n",
    "    if re.findall('[6-9]{1}[0-9]{9}$', i):\n",
    "        print(i, end='  ')"
   ]
  }
 ],
 "metadata": {
  "kernelspec": {
   "display_name": "Python 3",
   "language": "python",
   "name": "python3"
  },
  "language_info": {
   "codemirror_mode": {
    "name": "ipython",
    "version": 3
   },
   "file_extension": ".py",
   "mimetype": "text/x-python",
   "name": "python",
   "nbconvert_exporter": "python",
   "pygments_lexer": "ipython3",
   "version": "3.8.1"
  }
 },
 "nbformat": 4,
 "nbformat_minor": 5
}
